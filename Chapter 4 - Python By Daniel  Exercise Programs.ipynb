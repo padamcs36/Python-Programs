{
 "cells": [
  {
   "cell_type": "code",
   "execution_count": 2,
   "id": "e0328663",
   "metadata": {},
   "outputs": [
    {
     "name": "stdout",
     "output_type": "stream",
     "text": [
      "Enter coordinates fur three points p0, p1, p2: 3.4, 2, 6.5, 9.5, -5, 4\n",
      "p2 is on the left side of the line from po to p1\n"
     ]
    }
   ],
   "source": [
    "#Geometry - Point Position\n",
    "# (x1 - x0)*(y2 - y0) - (x2 - x0)*(y1 - y0)\n",
    "# >0 p2 is on the left side of the line\n",
    "# =0 p2 is on the same line\n",
    "# <0 p2 is on the right side of the line\n",
    "\n",
    "x0, y0, x1, y1, x2, y2 = eval(input('Enter coordinates for three points p0, p1, p2: '))\n",
    "\n",
    "formulla = (x1 - x0) * (y2 - y0) - (x2 - x0) * (y1 - y0)\n",
    "\n",
    "if formulla > 0:\n",
    "    print(\"p2 is on the left side of the line from po to p1\")\n",
    "elif formulla == 0:\n",
    "    print('p2 is on the same line p0 and p2')\n",
    "else:\n",
    "    print('p2 is  on the right side of the line from po to p1')"
   ]
  },
  {
   "cell_type": "code",
   "execution_count": 3,
   "id": "e279c9a9",
   "metadata": {},
   "outputs": [
    {
     "name": "stdout",
     "output_type": "stream",
     "text": [
      "Enter circle1 x, y-coordinates, radius: 4.4, 5.5, 1\n",
      "Enter circle2 x, y-coordinates, radius: 6.7, 3.5, 3\n",
      "Circle2 overlap circle1\n"
     ]
    }
   ],
   "source": [
    "#Geometry - Two Circles\n",
    "#Check wether one circle overlap with an other circel or inside of the  other circle\n",
    "x1, y1, r1 = eval(input('Enter circle1 x, y-coordinates, radius: '))\n",
    "x2, y2, r2 = eval(input('Enter circle2 x, y-coordinates, radius: '))\n",
    "\n",
    "#Calculate distance between two circles by using distance formulla\n",
    "# ((x2 - x1)**2 + (y2 - y1)**) ** 0.5\n",
    "\n",
    "distance_btw_2_circles = ((x2 - x1) ** 2 + (y2 - y1) ** 2) ** 0.5\n",
    "\n",
    "#Checking circles condition inside or overlaping\n",
    "#  ditance <= |r1 - r2| inside\n",
    "# distnace <= r1 + r2 overlaping\n",
    "\n",
    "if distance_btw_2_circles <= abs(r1 - r2):\n",
    "    print(\"Circle2 inside circle1\")\n",
    "elif distance_btw_2_circles <= (r1 + r2):\n",
    "    print('Circle2 overlap circle1')\n",
    "else:\n",
    "    print(\"Circle2 does not overlap circle1\")"
   ]
  },
  {
   "cell_type": "code",
   "execution_count": 15,
   "id": "79953ece",
   "metadata": {},
   "outputs": [
    {
     "name": "stdout",
     "output_type": "stream",
     "text": [
      "Enter 3-digit number: 654\n",
      "654 is not a palindrome\n"
     ]
    }
   ],
   "source": [
    "#Palindrome number - Find three digit palindrome numner\n",
    "\n",
    "number = eval(input(\"Enter 3-digit number: \"))\n",
    "\n",
    "first1 = number%10\n",
    "remaingNumber = number // 10\n",
    "\n",
    "second2 = remaingNumber % 10\n",
    "third = remaingNumber // 10\n",
    "\n",
    "palindrome = str(first1)+str(second2)+str(third)\n",
    "\n",
    "if number == int(palindrome):\n",
    "    print(number, \"is a palindrome\")\n",
    "else:\n",
    "    print(f\"{number} is not a palindrome\")"
   ]
  },
  {
   "cell_type": "code",
   "execution_count": 65,
   "id": "32642d37",
   "metadata": {},
   "outputs": [
    {
     "name": "stdout",
     "output_type": "stream",
     "text": [
      "enter number: 323\n",
      "323 is palindrome\n"
     ]
    }
   ],
   "source": [
    "#dynamic Palindrome\n",
    "number = input('enter number: ')\n",
    "\n",
    "if number == number[::-1]:\n",
    "    print(number, 'is palindrome')\n",
    "else:\n",
    "    print(number, 'is not palindrome')\n",
    "    \n",
    "# lst = []\n",
    "# for i in number:\n",
    "#     lst.append(i)\n",
    "\n",
    "# string = ''\n",
    "# for i in lst[::-1]:\n",
    "#     string += i\n",
    "\n",
    "# if number == string:\n",
    "#     print(number, 'is palindrome')\n",
    "# else:\n",
    "#     print(number, 'is not palindrome')"
   ]
  },
  {
   "cell_type": "code",
   "execution_count": 40,
   "id": "9ae54090",
   "metadata": {},
   "outputs": [
    {
     "name": "stdout",
     "output_type": "stream",
     "text": [
      "The card you picked is the 3 of Spades\n"
     ]
    }
   ],
   "source": [
    "#Game - Pick Card Randomly\n",
    "import random\n",
    "\n",
    "#Creating cards and its 4 types names\n",
    "card_list = ['Ace', 2, 3, 4, 5, 6, 7, 8, 9, 10, 'Jack', 'Queen', 'King']\n",
    "card_type_list = ['Clubs', 'Diamonds', 'Hearts', 'Spades']\n",
    "\n",
    "#now generating digits for cards 0, 12 becuase list index start with zero\n",
    "#and for card types generate random number from 0 to 3\n",
    "card = random.randint(0, 12)\n",
    "card_Types = random.randint(0, 3)\n",
    "\n",
    "print('The card you picked is the '+ str(card_list[card])+ ' of '+ str(card_type_list[card_Types]))"
   ]
  },
  {
   "cell_type": "code",
   "execution_count": 54,
   "id": "373b90d1",
   "metadata": {},
   "outputs": [
    {
     "name": "stdout",
     "output_type": "stream",
     "text": [
      "enter number3572753\n",
      "3572753 is palindrome\n"
     ]
    }
   ],
   "source": [
    "#palindrome\n",
    "number = input('enter number')\n",
    "\n",
    "lst = []\n",
    "for i in number:\n",
    "    lst.append(i)\n",
    "\n",
    "string = ''\n",
    "for i in lst[::-1]:\n",
    "    string += i\n",
    "\n",
    "if number == string:\n",
    "    print(number, 'is palindrome')\n",
    "else:\n",
    "    print(number, 'is not palindrome')"
   ]
  },
  {
   "cell_type": "code",
   "execution_count": 91,
   "id": "28c6faea",
   "metadata": {},
   "outputs": [
    {
     "name": "stdout",
     "output_type": "stream",
     "text": [
      "Enter number to check wether Isprime? 343\n",
      "343  is not prime number\n"
     ]
    }
   ],
   "source": [
    "#Checking Prime number\n",
    "def isPrime(number):\n",
    "    if number <= 1:\n",
    "        return False\n",
    "    #number = int((number/2) + 1)\n",
    "    for i in range(2, number//2):\n",
    "        if number % i == 0:\n",
    "            return False\n",
    "       # print(i)\n",
    "    return True\n",
    "\n",
    "\n",
    "number = eval(input(\"Enter number to check wether Isprime? \"))\n",
    "if isPrime(number):\n",
    "    print(number,' is prime number')\n",
    "else:\n",
    "    print(number,' is not prime number')"
   ]
  },
  {
   "cell_type": "code",
   "execution_count": 98,
   "id": "928a03d9",
   "metadata": {},
   "outputs": [
    {
     "name": "stdout",
     "output_type": "stream",
     "text": [
      "Enter Table generating number : 90\n",
      "*************\n",
      "1 x 90  =  90\n",
      "2 x 90  =  180\n",
      "3 x 90  =  270\n",
      "4 x 90  =  360\n",
      "5 x 90  =  450\n",
      "6 x 90  =  540\n",
      "7 x 90  =  630\n",
      "8 x 90  =  720\n",
      "9 x 90  =  810\n",
      "10 x 90  =  900\n",
      "**************\n"
     ]
    }
   ],
   "source": [
    "#Dynamic Table Generation\n",
    "number = eval(input('Enter Table generating number : '))\n",
    "\n",
    "print('*'*13)\n",
    "\n",
    "for i in range(1, 11):\n",
    "    print(i, \"x\", number, ' = ', i*number)\n",
    "\n",
    "print('*'*14)"
   ]
  },
  {
   "cell_type": "code",
   "execution_count": null,
   "id": "34deb1ba",
   "metadata": {},
   "outputs": [],
   "source": []
  }
 ],
 "metadata": {
  "kernelspec": {
   "display_name": "Python 3 (ipykernel)",
   "language": "python",
   "name": "python3"
  },
  "language_info": {
   "codemirror_mode": {
    "name": "ipython",
    "version": 3
   },
   "file_extension": ".py",
   "mimetype": "text/x-python",
   "name": "python",
   "nbconvert_exporter": "python",
   "pygments_lexer": "ipython3",
   "version": "3.9.13"
  }
 },
 "nbformat": 4,
 "nbformat_minor": 5
}
